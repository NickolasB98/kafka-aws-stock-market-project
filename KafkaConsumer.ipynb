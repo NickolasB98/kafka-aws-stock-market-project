{
 "cells": [
  {
   "cell_type": "code",
   "execution_count": 2,
   "id": "0e36f077-d125-4f3f-ad63-6fe38eedae60",
   "metadata": {},
   "outputs": [],
   "source": [
    "from kafka import KafkaConsumer\n",
    "from time import sleep\n",
    "from json import dumps,loads\n",
    "import json\n",
    "import boto3\n",
    "import csv\n",
    "import os"
   ]
  },
  {
   "cell_type": "code",
   "execution_count": 3,
   "id": "bdac50e4-785b-45ff-8029-35ce0ad0e07b",
   "metadata": {},
   "outputs": [],
   "source": [
    "consumer = KafkaConsumer(\n",
    "    'demo_test',\n",
    "     bootstrap_servers=['put ec2 public ip:9092'], #add your IP here\n",
    "    value_deserializer=lambda x: loads(x.decode('utf-8')))"
   ]
  },
  {
   "cell_type": "code",
   "execution_count": null,
   "id": "f19405f0",
   "metadata": {},
   "outputs": [
    {
     "name": "stdout",
     "output_type": "stream",
     "text": [
      "{'Index': 'SSMI', 'Date': '1997-03-18', 'Open': 4557.299805, 'High': 4576.299805, 'Low': 4494.799805, 'Close': 4519.899902, 'Adj Close': 4519.899902, 'Volume': 0.0, 'CloseUSD': 5017.088891220001}\n",
      "{'Index': 'GSPTSE', 'Date': '1992-04-07', 'Open': 3373.399902, 'High': 3373.399902, 'Low': 3336.600098, 'Close': 3336.600098, 'Adj Close': 3336.600098, 'Volume': 25510000.0, 'CloseUSD': 2769.37808134}\n",
      "{'Index': 'NYA', 'Date': '2013-06-13', 'Open': 9187.070313, 'High': 9345.490234, 'Low': 9173.75, 'Close': 9331.370117, 'Adj Close': 9331.370117, 'Volume': 3378620000.0, 'CloseUSD': 9331.370117}\n",
      "{'Index': 'GSPTSE', 'Date': '2020-05-04', 'Open': 14554.2002, 'High': 14745.0, 'Low': 14518.09961, 'Close': 14745.0, 'Adj Close': 14745.0, 'Volume': 29509350000.0, 'CloseUSD': 12238.35}\n",
      "{'Index': 'N100', 'Date': '2017-10-23', 'Open': 1050.26001, 'High': 1054.890015, 'Low': 1048.199951, 'Close': 1052.089966, 'Adj Close': 1052.089966, 'Volume': 149269800.0, 'CloseUSD': 1283.54975852}\n",
      "{'Index': 'NYA', 'Date': '1983-03-29', 'Open': 922.450012, 'High': 922.450012, 'Low': 922.450012, 'Close': 922.450012, 'Adj Close': 922.450012, 'Volume': 0.0, 'CloseUSD': 922.450012}\n",
      "{'Index': 'GDAXI', 'Date': '2002-12-20', 'Open': 2970.280029, 'High': 3039.120117, 'Low': 2948.560059, 'Close': 3024.219971, 'Adj Close': 3024.219971, 'Volume': 162892700.0, 'CloseUSD': 3689.54836462}\n",
      "{'Index': '000001.SS', 'Date': '2017-10-13', 'Open': 3384.488037, 'High': 3395.748047, 'Low': 3383.239014, 'Close': 3390.522949, 'Adj Close': 3390.522949, 'Volume': 140000.0, 'CloseUSD': 542.48367184}\n",
      "{'Index': 'HSI', 'Date': '2020-07-31', 'Open': 24747.28906, 'High': 24938.84961, 'Low': 24534.78906, 'Close': 24595.34961, 'Adj Close': 24595.34961, 'Volume': 1763233900.0, 'CloseUSD': 3197.3954493}\n",
      "{'Index': 'N225', 'Date': '2005-10-13', 'Open': 13388.01953, 'High': 13475.86035, 'Low': 13266.98047, 'Close': 13449.24023, 'Adj Close': 13449.24023, 'Volume': 134700000.0, 'CloseUSD': 134.4924023}\n",
      "{'Index': 'N100', 'Date': '2020-12-02', 'Open': 1097.109985, 'High': 1100.699951, 'Low': 1094.23999, 'Close': 1099.76001, 'Adj Close': 1099.76001, 'Volume': 233798900.0, 'CloseUSD': 1341.7072122}\n",
      "{'Index': 'NYA', 'Date': '2017-05-23', 'Open': 11602.37988, 'High': 11620.26953, 'Low': 11587.82031, 'Close': 11604.62012, 'Adj Close': 11604.62012, 'Volume': 3213570000.0, 'CloseUSD': 11604.62012}\n",
      "{'Index': 'SSMI', 'Date': '2011-10-07', 'Open': 5631.930176, 'High': 5685.259766, 'Low': 5590.72998, 'Close': 5652.22998, 'Adj Close': 5652.22998, 'Volume': 60641100.0, 'CloseUSD': 6273.9752778}\n",
      "{'Index': 'GSPTSE', 'Date': '2007-04-17', 'Open': 13712.2002, 'High': 13712.2002, 'Low': 13630.29981, 'Close': 13658.0, 'Adj Close': 13658.0, 'Volume': 22624720000.0, 'CloseUSD': 11336.14}\n",
      "{'Index': 'J203.JO', 'Date': '2014-09-03', 'Open': 51462.57031, 'High': 51887.33984, 'Low': 51441.51172, 'Close': 51793.64844, 'Adj Close': 51793.64844, 'Volume': 0.0, 'CloseUSD': 3625.5553908}\n",
      "{'Index': 'N225', 'Date': '1966-01-13', 'Open': 1416.25, 'High': 1416.25, 'Low': 1416.25, 'Close': 1416.25, 'Adj Close': 1416.25, 'Volume': 0.0, 'CloseUSD': 14.1625}\n",
      "{'Index': 'HSI', 'Date': '2019-11-01', 'Open': 26806.43945, 'High': 27102.41992, 'Low': 26800.57031, 'Close': 27100.75977, 'Adj Close': 27100.75977, 'Volume': 1421451500.0, 'CloseUSD': 3523.0987701000004}\n",
      "{'Index': 'N100', 'Date': '2014-08-12', 'Open': 799.97998, 'High': 803.039978, 'Low': 796.450012, 'Close': 798.23999, 'Adj Close': 798.23999, 'Volume': 174601200.0, 'CloseUSD': 973.8527878}\n",
      "{'Index': 'N225', 'Date': '1993-12-28', 'Open': 16853.99023, 'High': 17147.60938, 'Low': 16853.99023, 'Close': 17131.21094, 'Adj Close': 17131.21094, 'Volume': 0.0, 'CloseUSD': 171.31210940000005}\n",
      "{'Index': 'GSPTSE', 'Date': '1990-04-25', 'Open': 3342.5, 'High': 3344.300049, 'Low': 3329.100098, 'Close': 3343.199951, 'Adj Close': 3334.709717, 'Volume': 18850000.0, 'CloseUSD': 2774.85595933}\n",
      "{'Index': 'N225', 'Date': '1984-07-03', 'Open': 10349.25, 'High': 10349.25, 'Low': 10349.25, 'Close': 10349.25, 'Adj Close': 10349.25, 'Volume': 0.0, 'CloseUSD': 103.4925}\n",
      "{'Index': '000001.SS', 'Date': '2004-11-26', 'Open': 1357.536011, 'High': 1362.494019, 'Low': 1354.795044, 'Close': 1356.727051, 'Adj Close': 1356.727051, 'Volume': 10400.0, 'CloseUSD': 217.07632816}\n",
      "{'Index': '000001.SS', 'Date': '2009-10-14', 'Open': 2945.668945, 'High': 3010.611084, 'Low': 2943.741943, 'Close': 2970.531982, 'Adj Close': 2970.531982, 'Volume': 129600.0, 'CloseUSD': 475.28511712}\n",
      "{'Index': '000001.SS', 'Date': '2012-02-13', 'Open': 2332.054932, 'High': 2365.339111, 'Low': 2325.028076, 'Close': 2351.854004, 'Adj Close': 2351.854004, 'Volume': 86200.0, 'CloseUSD': 376.29664064}\n",
      "{'Index': 'N225', 'Date': '1979-01-16', 'Open': 6118.040039, 'High': 6118.040039, 'Low': 6118.040039, 'Close': 6118.040039, 'Adj Close': 6118.040039, 'Volume': 0.0, 'CloseUSD': 61.18040039}\n",
      "{'Index': 'GDAXI', 'Date': '1998-06-22', 'Open': 5652.560059, 'High': 5688.240234, 'Low': 5609.529785, 'Close': 5648.109863, 'Adj Close': 5648.109863, 'Volume': 0.0, 'CloseUSD': 6890.694032859999}\n",
      "{'Index': 'GSPTSE', 'Date': '1998-05-19', 'Open': 7676.600098, 'High': 7676.899902, 'Low': 7652.100098, 'Close': 7662.399902, 'Adj Close': 7662.399902, 'Volume': 4126780000.0, 'CloseUSD': 6359.79191866}\n",
      "{'Index': 'HSI', 'Date': '2007-10-16', 'Open': 29238.28906, 'High': 29920.25, 'Low': 28884.23047, 'Close': 28954.55078, 'Adj Close': 28954.55078, 'Volume': 3997664400.0, 'CloseUSD': 3764.0916014}\n",
      "{'Index': 'GDAXI', 'Date': '2020-05-07', 'Open': 10640.76953, 'High': 10761.86035, 'Low': 10617.23047, 'Close': 10759.26953, 'Adj Close': 10759.26953, 'Volume': 102151600.0, 'CloseUSD': 13126.3088266}\n",
      "{'Index': 'IXIC', 'Date': '2016-03-17', 'Open': 4752.620117, 'High': 4788.089844, 'Low': 4737.970215, 'Close': 4774.990234, 'Adj Close': 4774.990234, 'Volume': 1907190000.0, 'CloseUSD': 4774.990234}\n",
      "{'Index': 'GSPTSE', 'Date': '2015-01-13', 'Open': 14285.09961, 'High': 14369.79981, 'Low': 14075.0, 'Close': 14187.2002, 'Adj Close': 14187.2002, 'Volume': 27661460000.0, 'CloseUSD': 11775.376165999998}\n",
      "{'Index': 'IXIC', 'Date': '2021-02-11', 'Open': 14045.20996, 'High': 14058.91016, 'Low': 13916.84961, 'Close': 14025.76953, 'Adj Close': 14025.76953, 'Volume': 10000200000.0, 'CloseUSD': 14025.76953}\n",
      "{'Index': 'GDAXI', 'Date': '1994-11-28', 'Open': 2060.540039, 'High': 2071.310059, 'Low': 2047.359985, 'Close': 2050.820068, 'Adj Close': 2050.820068, 'Volume': 0.0, 'CloseUSD': 2502.00048296}\n",
      "{'Index': 'NYA', 'Date': '1998-07-24', 'Open': 6093.850098, 'High': 6093.850098, 'Low': 6093.850098, 'Close': 6093.850098, 'Adj Close': 6093.850098, 'Volume': 0.0, 'CloseUSD': 6093.850098}\n",
      "{'Index': 'N225', 'Date': '2018-12-28', 'Open': 19957.88086, 'High': 20084.38086, 'Low': 19900.03906, 'Close': 20014.76953, 'Adj Close': 20014.76953, 'Volume': 70600000.0, 'CloseUSD': 200.1476953}\n",
      "{'Index': 'N100', 'Date': '2011-11-15', 'Open': 578.150024, 'High': 581.320007, 'Low': 569.890015, 'Close': 573.75, 'Adj Close': 573.75, 'Volume': 271170400.0, 'CloseUSD': 699.975}\n"
     ]
    },
    {
     "ename": "KeyboardInterrupt",
     "evalue": "",
     "output_type": "error",
     "traceback": [
      "\u001b[0;31m---------------------------------------------------------------------------\u001b[0m",
      "\u001b[0;31mKeyboardInterrupt\u001b[0m                         Traceback (most recent call last)",
      "Cell \u001b[0;32mIn[4], line 1\u001b[0m\n\u001b[0;32m----> 1\u001b[0m \u001b[38;5;28;01mfor\u001b[39;00m c \u001b[38;5;129;01min\u001b[39;00m consumer:\n\u001b[1;32m      2\u001b[0m     \u001b[38;5;28mprint\u001b[39m(c\u001b[38;5;241m.\u001b[39mvalue)\n",
      "File \u001b[0;32m/opt/anaconda3/lib/python3.11/site-packages/kafka/consumer/group.py:1193\u001b[0m, in \u001b[0;36mKafkaConsumer.__next__\u001b[0;34m(self)\u001b[0m\n\u001b[1;32m   1191\u001b[0m     \u001b[38;5;28;01mreturn\u001b[39;00m \u001b[38;5;28mself\u001b[39m\u001b[38;5;241m.\u001b[39mnext_v1()\n\u001b[1;32m   1192\u001b[0m \u001b[38;5;28;01melse\u001b[39;00m:\n\u001b[0;32m-> 1193\u001b[0m     \u001b[38;5;28;01mreturn\u001b[39;00m \u001b[38;5;28mself\u001b[39m\u001b[38;5;241m.\u001b[39mnext_v2()\n",
      "File \u001b[0;32m/opt/anaconda3/lib/python3.11/site-packages/kafka/consumer/group.py:1201\u001b[0m, in \u001b[0;36mKafkaConsumer.next_v2\u001b[0;34m(self)\u001b[0m\n\u001b[1;32m   1199\u001b[0m     \u001b[38;5;28mself\u001b[39m\u001b[38;5;241m.\u001b[39m_iterator \u001b[38;5;241m=\u001b[39m \u001b[38;5;28mself\u001b[39m\u001b[38;5;241m.\u001b[39m_message_generator_v2()\n\u001b[1;32m   1200\u001b[0m \u001b[38;5;28;01mtry\u001b[39;00m:\n\u001b[0;32m-> 1201\u001b[0m     \u001b[38;5;28;01mreturn\u001b[39;00m \u001b[38;5;28mnext\u001b[39m(\u001b[38;5;28mself\u001b[39m\u001b[38;5;241m.\u001b[39m_iterator)\n\u001b[1;32m   1202\u001b[0m \u001b[38;5;28;01mexcept\u001b[39;00m \u001b[38;5;167;01mStopIteration\u001b[39;00m:\n\u001b[1;32m   1203\u001b[0m     \u001b[38;5;28mself\u001b[39m\u001b[38;5;241m.\u001b[39m_iterator \u001b[38;5;241m=\u001b[39m \u001b[38;5;28;01mNone\u001b[39;00m\n",
      "File \u001b[0;32m/opt/anaconda3/lib/python3.11/site-packages/kafka/consumer/group.py:1116\u001b[0m, in \u001b[0;36mKafkaConsumer._message_generator_v2\u001b[0;34m(self)\u001b[0m\n\u001b[1;32m   1114\u001b[0m \u001b[38;5;28;01mdef\u001b[39;00m \u001b[38;5;21m_message_generator_v2\u001b[39m(\u001b[38;5;28mself\u001b[39m):\n\u001b[1;32m   1115\u001b[0m     timeout_ms \u001b[38;5;241m=\u001b[39m \u001b[38;5;241m1000\u001b[39m \u001b[38;5;241m*\u001b[39m (\u001b[38;5;28mself\u001b[39m\u001b[38;5;241m.\u001b[39m_consumer_timeout \u001b[38;5;241m-\u001b[39m time\u001b[38;5;241m.\u001b[39mtime())\n\u001b[0;32m-> 1116\u001b[0m     record_map \u001b[38;5;241m=\u001b[39m \u001b[38;5;28mself\u001b[39m\u001b[38;5;241m.\u001b[39mpoll(timeout_ms\u001b[38;5;241m=\u001b[39mtimeout_ms, update_offsets\u001b[38;5;241m=\u001b[39m\u001b[38;5;28;01mFalse\u001b[39;00m)\n\u001b[1;32m   1117\u001b[0m     \u001b[38;5;28;01mfor\u001b[39;00m tp, records \u001b[38;5;129;01min\u001b[39;00m six\u001b[38;5;241m.\u001b[39miteritems(record_map):\n\u001b[1;32m   1118\u001b[0m         \u001b[38;5;66;03m# Generators are stateful, and it is possible that the tp / records\u001b[39;00m\n\u001b[1;32m   1119\u001b[0m         \u001b[38;5;66;03m# here may become stale during iteration -- i.e., we seek to a\u001b[39;00m\n\u001b[1;32m   1120\u001b[0m         \u001b[38;5;66;03m# different offset, pause consumption, or lose assignment.\u001b[39;00m\n\u001b[1;32m   1121\u001b[0m         \u001b[38;5;28;01mfor\u001b[39;00m record \u001b[38;5;129;01min\u001b[39;00m records:\n\u001b[1;32m   1122\u001b[0m             \u001b[38;5;66;03m# is_fetchable(tp) should handle assignment changes and offset\u001b[39;00m\n\u001b[1;32m   1123\u001b[0m             \u001b[38;5;66;03m# resets; for all other changes (e.g., seeks) we'll rely on the\u001b[39;00m\n\u001b[1;32m   1124\u001b[0m             \u001b[38;5;66;03m# outer function destroying the existing iterator/generator\u001b[39;00m\n\u001b[1;32m   1125\u001b[0m             \u001b[38;5;66;03m# via self._iterator = None\u001b[39;00m\n",
      "File \u001b[0;32m/opt/anaconda3/lib/python3.11/site-packages/kafka/consumer/group.py:655\u001b[0m, in \u001b[0;36mKafkaConsumer.poll\u001b[0;34m(self, timeout_ms, max_records, update_offsets)\u001b[0m\n\u001b[1;32m    653\u001b[0m remaining \u001b[38;5;241m=\u001b[39m timeout_ms\n\u001b[1;32m    654\u001b[0m \u001b[38;5;28;01mwhile\u001b[39;00m \u001b[38;5;28;01mTrue\u001b[39;00m:\n\u001b[0;32m--> 655\u001b[0m     records \u001b[38;5;241m=\u001b[39m \u001b[38;5;28mself\u001b[39m\u001b[38;5;241m.\u001b[39m_poll_once(remaining, max_records, update_offsets\u001b[38;5;241m=\u001b[39mupdate_offsets)\n\u001b[1;32m    656\u001b[0m     \u001b[38;5;28;01mif\u001b[39;00m records:\n\u001b[1;32m    657\u001b[0m         \u001b[38;5;28;01mreturn\u001b[39;00m records\n",
      "File \u001b[0;32m/opt/anaconda3/lib/python3.11/site-packages/kafka/consumer/group.py:702\u001b[0m, in \u001b[0;36mKafkaConsumer._poll_once\u001b[0;34m(self, timeout_ms, max_records, update_offsets)\u001b[0m\n\u001b[1;32m    699\u001b[0m     \u001b[38;5;28mself\u001b[39m\u001b[38;5;241m.\u001b[39m_client\u001b[38;5;241m.\u001b[39mpoll(timeout_ms\u001b[38;5;241m=\u001b[39m\u001b[38;5;241m0\u001b[39m)\n\u001b[1;32m    701\u001b[0m timeout_ms \u001b[38;5;241m=\u001b[39m \u001b[38;5;28mmin\u001b[39m(timeout_ms, \u001b[38;5;28mself\u001b[39m\u001b[38;5;241m.\u001b[39m_coordinator\u001b[38;5;241m.\u001b[39mtime_to_next_poll() \u001b[38;5;241m*\u001b[39m \u001b[38;5;241m1000\u001b[39m)\n\u001b[0;32m--> 702\u001b[0m \u001b[38;5;28mself\u001b[39m\u001b[38;5;241m.\u001b[39m_client\u001b[38;5;241m.\u001b[39mpoll(timeout_ms\u001b[38;5;241m=\u001b[39mtimeout_ms)\n\u001b[1;32m    703\u001b[0m \u001b[38;5;66;03m# after the long poll, we should check whether the group needs to rebalance\u001b[39;00m\n\u001b[1;32m    704\u001b[0m \u001b[38;5;66;03m# prior to returning data so that the group can stabilize faster\u001b[39;00m\n\u001b[1;32m    705\u001b[0m \u001b[38;5;28;01mif\u001b[39;00m \u001b[38;5;28mself\u001b[39m\u001b[38;5;241m.\u001b[39m_coordinator\u001b[38;5;241m.\u001b[39mneed_rejoin():\n",
      "File \u001b[0;32m/opt/anaconda3/lib/python3.11/site-packages/kafka/client_async.py:602\u001b[0m, in \u001b[0;36mKafkaClient.poll\u001b[0;34m(self, timeout_ms, future)\u001b[0m\n\u001b[1;32m    599\u001b[0m             timeout \u001b[38;5;241m=\u001b[39m \u001b[38;5;28mmin\u001b[39m(timeout, \u001b[38;5;28mself\u001b[39m\u001b[38;5;241m.\u001b[39mconfig[\u001b[38;5;124m'\u001b[39m\u001b[38;5;124mretry_backoff_ms\u001b[39m\u001b[38;5;124m'\u001b[39m])\n\u001b[1;32m    600\u001b[0m         timeout \u001b[38;5;241m=\u001b[39m \u001b[38;5;28mmax\u001b[39m(\u001b[38;5;241m0\u001b[39m, timeout)  \u001b[38;5;66;03m# avoid negative timeouts\u001b[39;00m\n\u001b[0;32m--> 602\u001b[0m     \u001b[38;5;28mself\u001b[39m\u001b[38;5;241m.\u001b[39m_poll(timeout \u001b[38;5;241m/\u001b[39m \u001b[38;5;241m1000\u001b[39m)\n\u001b[1;32m    604\u001b[0m \u001b[38;5;66;03m# called without the lock to avoid deadlock potential\u001b[39;00m\n\u001b[1;32m    605\u001b[0m \u001b[38;5;66;03m# if handlers need to acquire locks\u001b[39;00m\n\u001b[1;32m    606\u001b[0m responses\u001b[38;5;241m.\u001b[39mextend(\u001b[38;5;28mself\u001b[39m\u001b[38;5;241m.\u001b[39m_fire_pending_completed_requests())\n",
      "File \u001b[0;32m/opt/anaconda3/lib/python3.11/site-packages/kafka/client_async.py:634\u001b[0m, in \u001b[0;36mKafkaClient._poll\u001b[0;34m(self, timeout)\u001b[0m\n\u001b[1;32m    631\u001b[0m \u001b[38;5;28mself\u001b[39m\u001b[38;5;241m.\u001b[39m_register_send_sockets()\n\u001b[1;32m    633\u001b[0m start_select \u001b[38;5;241m=\u001b[39m time\u001b[38;5;241m.\u001b[39mtime()\n\u001b[0;32m--> 634\u001b[0m ready \u001b[38;5;241m=\u001b[39m \u001b[38;5;28mself\u001b[39m\u001b[38;5;241m.\u001b[39m_selector\u001b[38;5;241m.\u001b[39mselect(timeout)\n\u001b[1;32m    635\u001b[0m end_select \u001b[38;5;241m=\u001b[39m time\u001b[38;5;241m.\u001b[39mtime()\n\u001b[1;32m    636\u001b[0m \u001b[38;5;28;01mif\u001b[39;00m \u001b[38;5;28mself\u001b[39m\u001b[38;5;241m.\u001b[39m_sensors:\n",
      "File \u001b[0;32m/opt/anaconda3/lib/python3.11/selectors.py:566\u001b[0m, in \u001b[0;36mKqueueSelector.select\u001b[0;34m(self, timeout)\u001b[0m\n\u001b[1;32m    564\u001b[0m ready \u001b[38;5;241m=\u001b[39m []\n\u001b[1;32m    565\u001b[0m \u001b[38;5;28;01mtry\u001b[39;00m:\n\u001b[0;32m--> 566\u001b[0m     kev_list \u001b[38;5;241m=\u001b[39m \u001b[38;5;28mself\u001b[39m\u001b[38;5;241m.\u001b[39m_selector\u001b[38;5;241m.\u001b[39mcontrol(\u001b[38;5;28;01mNone\u001b[39;00m, max_ev, timeout)\n\u001b[1;32m    567\u001b[0m \u001b[38;5;28;01mexcept\u001b[39;00m \u001b[38;5;167;01mInterruptedError\u001b[39;00m:\n\u001b[1;32m    568\u001b[0m     \u001b[38;5;28;01mreturn\u001b[39;00m ready\n",
      "\u001b[0;31mKeyboardInterrupt\u001b[0m: "
     ]
    }
   ],
   "source": [
    "for c in consumer:\n",
    "    print(c.value)"
   ]
  },
  {
   "cell_type": "code",
   "execution_count": 10,
   "id": "af5db5de",
   "metadata": {},
   "outputs": [],
   "source": [
    "\n",
    "\n",
    "# Load AWS credentials from CSV file\n",
    "with open('programmatic-access_accessKeys.csv', mode='r') as file:\n",
    "    reader = csv.reader(file)\n",
    "    for row in reader:\n",
    "        aws_access_key_id = row[0]\n",
    "        aws_secret_access_key = row[1]\n",
    "\n",
    "# Set the credentials as environment variables (optional)\n",
    "os.environ['AWS_ACCESS_KEY_ID'] = 'put_your_secret_id'\n",
    "os.environ['AWS_SECRET_ACCESS_KEY'] = 'put_your_secret_value'\n",
    "\n",
    "# Now you can create an S3 client\n",
    "s3 = boto3.client('s3')\n"
   ]
  },
  {
   "cell_type": "code",
   "execution_count": 11,
   "id": "0c30b915",
   "metadata": {},
   "outputs": [
    {
     "ename": "KeyboardInterrupt",
     "evalue": "",
     "output_type": "error",
     "traceback": [
      "\u001b[0;31m---------------------------------------------------------------------------\u001b[0m",
      "\u001b[0;31mKeyboardInterrupt\u001b[0m                         Traceback (most recent call last)",
      "Cell \u001b[0;32mIn[11], line 1\u001b[0m\n\u001b[0;32m----> 1\u001b[0m \u001b[38;5;28;01mfor\u001b[39;00m count, i \u001b[38;5;129;01min\u001b[39;00m \u001b[38;5;28menumerate\u001b[39m(consumer):\n\u001b[1;32m      2\u001b[0m     \u001b[38;5;66;03m# Convert the value to JSON format\u001b[39;00m\n\u001b[1;32m      3\u001b[0m     json_data \u001b[38;5;241m=\u001b[39m json\u001b[38;5;241m.\u001b[39mdumps(i\u001b[38;5;241m.\u001b[39mvalue)\n\u001b[1;32m      5\u001b[0m     \u001b[38;5;66;03m# Upload the JSON data to S3\u001b[39;00m\n",
      "File \u001b[0;32m/opt/anaconda3/lib/python3.11/site-packages/kafka/consumer/group.py:1193\u001b[0m, in \u001b[0;36mKafkaConsumer.__next__\u001b[0;34m(self)\u001b[0m\n\u001b[1;32m   1191\u001b[0m     \u001b[38;5;28;01mreturn\u001b[39;00m \u001b[38;5;28mself\u001b[39m\u001b[38;5;241m.\u001b[39mnext_v1()\n\u001b[1;32m   1192\u001b[0m \u001b[38;5;28;01melse\u001b[39;00m:\n\u001b[0;32m-> 1193\u001b[0m     \u001b[38;5;28;01mreturn\u001b[39;00m \u001b[38;5;28mself\u001b[39m\u001b[38;5;241m.\u001b[39mnext_v2()\n",
      "File \u001b[0;32m/opt/anaconda3/lib/python3.11/site-packages/kafka/consumer/group.py:1201\u001b[0m, in \u001b[0;36mKafkaConsumer.next_v2\u001b[0;34m(self)\u001b[0m\n\u001b[1;32m   1199\u001b[0m     \u001b[38;5;28mself\u001b[39m\u001b[38;5;241m.\u001b[39m_iterator \u001b[38;5;241m=\u001b[39m \u001b[38;5;28mself\u001b[39m\u001b[38;5;241m.\u001b[39m_message_generator_v2()\n\u001b[1;32m   1200\u001b[0m \u001b[38;5;28;01mtry\u001b[39;00m:\n\u001b[0;32m-> 1201\u001b[0m     \u001b[38;5;28;01mreturn\u001b[39;00m \u001b[38;5;28mnext\u001b[39m(\u001b[38;5;28mself\u001b[39m\u001b[38;5;241m.\u001b[39m_iterator)\n\u001b[1;32m   1202\u001b[0m \u001b[38;5;28;01mexcept\u001b[39;00m \u001b[38;5;167;01mStopIteration\u001b[39;00m:\n\u001b[1;32m   1203\u001b[0m     \u001b[38;5;28mself\u001b[39m\u001b[38;5;241m.\u001b[39m_iterator \u001b[38;5;241m=\u001b[39m \u001b[38;5;28;01mNone\u001b[39;00m\n",
      "File \u001b[0;32m/opt/anaconda3/lib/python3.11/site-packages/kafka/consumer/group.py:1116\u001b[0m, in \u001b[0;36mKafkaConsumer._message_generator_v2\u001b[0;34m(self)\u001b[0m\n\u001b[1;32m   1114\u001b[0m \u001b[38;5;28;01mdef\u001b[39;00m \u001b[38;5;21m_message_generator_v2\u001b[39m(\u001b[38;5;28mself\u001b[39m):\n\u001b[1;32m   1115\u001b[0m     timeout_ms \u001b[38;5;241m=\u001b[39m \u001b[38;5;241m1000\u001b[39m \u001b[38;5;241m*\u001b[39m (\u001b[38;5;28mself\u001b[39m\u001b[38;5;241m.\u001b[39m_consumer_timeout \u001b[38;5;241m-\u001b[39m time\u001b[38;5;241m.\u001b[39mtime())\n\u001b[0;32m-> 1116\u001b[0m     record_map \u001b[38;5;241m=\u001b[39m \u001b[38;5;28mself\u001b[39m\u001b[38;5;241m.\u001b[39mpoll(timeout_ms\u001b[38;5;241m=\u001b[39mtimeout_ms, update_offsets\u001b[38;5;241m=\u001b[39m\u001b[38;5;28;01mFalse\u001b[39;00m)\n\u001b[1;32m   1117\u001b[0m     \u001b[38;5;28;01mfor\u001b[39;00m tp, records \u001b[38;5;129;01min\u001b[39;00m six\u001b[38;5;241m.\u001b[39miteritems(record_map):\n\u001b[1;32m   1118\u001b[0m         \u001b[38;5;66;03m# Generators are stateful, and it is possible that the tp / records\u001b[39;00m\n\u001b[1;32m   1119\u001b[0m         \u001b[38;5;66;03m# here may become stale during iteration -- i.e., we seek to a\u001b[39;00m\n\u001b[1;32m   1120\u001b[0m         \u001b[38;5;66;03m# different offset, pause consumption, or lose assignment.\u001b[39;00m\n\u001b[1;32m   1121\u001b[0m         \u001b[38;5;28;01mfor\u001b[39;00m record \u001b[38;5;129;01min\u001b[39;00m records:\n\u001b[1;32m   1122\u001b[0m             \u001b[38;5;66;03m# is_fetchable(tp) should handle assignment changes and offset\u001b[39;00m\n\u001b[1;32m   1123\u001b[0m             \u001b[38;5;66;03m# resets; for all other changes (e.g., seeks) we'll rely on the\u001b[39;00m\n\u001b[1;32m   1124\u001b[0m             \u001b[38;5;66;03m# outer function destroying the existing iterator/generator\u001b[39;00m\n\u001b[1;32m   1125\u001b[0m             \u001b[38;5;66;03m# via self._iterator = None\u001b[39;00m\n",
      "File \u001b[0;32m/opt/anaconda3/lib/python3.11/site-packages/kafka/consumer/group.py:655\u001b[0m, in \u001b[0;36mKafkaConsumer.poll\u001b[0;34m(self, timeout_ms, max_records, update_offsets)\u001b[0m\n\u001b[1;32m    653\u001b[0m remaining \u001b[38;5;241m=\u001b[39m timeout_ms\n\u001b[1;32m    654\u001b[0m \u001b[38;5;28;01mwhile\u001b[39;00m \u001b[38;5;28;01mTrue\u001b[39;00m:\n\u001b[0;32m--> 655\u001b[0m     records \u001b[38;5;241m=\u001b[39m \u001b[38;5;28mself\u001b[39m\u001b[38;5;241m.\u001b[39m_poll_once(remaining, max_records, update_offsets\u001b[38;5;241m=\u001b[39mupdate_offsets)\n\u001b[1;32m    656\u001b[0m     \u001b[38;5;28;01mif\u001b[39;00m records:\n\u001b[1;32m    657\u001b[0m         \u001b[38;5;28;01mreturn\u001b[39;00m records\n",
      "File \u001b[0;32m/opt/anaconda3/lib/python3.11/site-packages/kafka/consumer/group.py:702\u001b[0m, in \u001b[0;36mKafkaConsumer._poll_once\u001b[0;34m(self, timeout_ms, max_records, update_offsets)\u001b[0m\n\u001b[1;32m    699\u001b[0m     \u001b[38;5;28mself\u001b[39m\u001b[38;5;241m.\u001b[39m_client\u001b[38;5;241m.\u001b[39mpoll(timeout_ms\u001b[38;5;241m=\u001b[39m\u001b[38;5;241m0\u001b[39m)\n\u001b[1;32m    701\u001b[0m timeout_ms \u001b[38;5;241m=\u001b[39m \u001b[38;5;28mmin\u001b[39m(timeout_ms, \u001b[38;5;28mself\u001b[39m\u001b[38;5;241m.\u001b[39m_coordinator\u001b[38;5;241m.\u001b[39mtime_to_next_poll() \u001b[38;5;241m*\u001b[39m \u001b[38;5;241m1000\u001b[39m)\n\u001b[0;32m--> 702\u001b[0m \u001b[38;5;28mself\u001b[39m\u001b[38;5;241m.\u001b[39m_client\u001b[38;5;241m.\u001b[39mpoll(timeout_ms\u001b[38;5;241m=\u001b[39mtimeout_ms)\n\u001b[1;32m    703\u001b[0m \u001b[38;5;66;03m# after the long poll, we should check whether the group needs to rebalance\u001b[39;00m\n\u001b[1;32m    704\u001b[0m \u001b[38;5;66;03m# prior to returning data so that the group can stabilize faster\u001b[39;00m\n\u001b[1;32m    705\u001b[0m \u001b[38;5;28;01mif\u001b[39;00m \u001b[38;5;28mself\u001b[39m\u001b[38;5;241m.\u001b[39m_coordinator\u001b[38;5;241m.\u001b[39mneed_rejoin():\n",
      "File \u001b[0;32m/opt/anaconda3/lib/python3.11/site-packages/kafka/client_async.py:602\u001b[0m, in \u001b[0;36mKafkaClient.poll\u001b[0;34m(self, timeout_ms, future)\u001b[0m\n\u001b[1;32m    599\u001b[0m             timeout \u001b[38;5;241m=\u001b[39m \u001b[38;5;28mmin\u001b[39m(timeout, \u001b[38;5;28mself\u001b[39m\u001b[38;5;241m.\u001b[39mconfig[\u001b[38;5;124m'\u001b[39m\u001b[38;5;124mretry_backoff_ms\u001b[39m\u001b[38;5;124m'\u001b[39m])\n\u001b[1;32m    600\u001b[0m         timeout \u001b[38;5;241m=\u001b[39m \u001b[38;5;28mmax\u001b[39m(\u001b[38;5;241m0\u001b[39m, timeout)  \u001b[38;5;66;03m# avoid negative timeouts\u001b[39;00m\n\u001b[0;32m--> 602\u001b[0m     \u001b[38;5;28mself\u001b[39m\u001b[38;5;241m.\u001b[39m_poll(timeout \u001b[38;5;241m/\u001b[39m \u001b[38;5;241m1000\u001b[39m)\n\u001b[1;32m    604\u001b[0m \u001b[38;5;66;03m# called without the lock to avoid deadlock potential\u001b[39;00m\n\u001b[1;32m    605\u001b[0m \u001b[38;5;66;03m# if handlers need to acquire locks\u001b[39;00m\n\u001b[1;32m    606\u001b[0m responses\u001b[38;5;241m.\u001b[39mextend(\u001b[38;5;28mself\u001b[39m\u001b[38;5;241m.\u001b[39m_fire_pending_completed_requests())\n",
      "File \u001b[0;32m/opt/anaconda3/lib/python3.11/site-packages/kafka/client_async.py:634\u001b[0m, in \u001b[0;36mKafkaClient._poll\u001b[0;34m(self, timeout)\u001b[0m\n\u001b[1;32m    631\u001b[0m \u001b[38;5;28mself\u001b[39m\u001b[38;5;241m.\u001b[39m_register_send_sockets()\n\u001b[1;32m    633\u001b[0m start_select \u001b[38;5;241m=\u001b[39m time\u001b[38;5;241m.\u001b[39mtime()\n\u001b[0;32m--> 634\u001b[0m ready \u001b[38;5;241m=\u001b[39m \u001b[38;5;28mself\u001b[39m\u001b[38;5;241m.\u001b[39m_selector\u001b[38;5;241m.\u001b[39mselect(timeout)\n\u001b[1;32m    635\u001b[0m end_select \u001b[38;5;241m=\u001b[39m time\u001b[38;5;241m.\u001b[39mtime()\n\u001b[1;32m    636\u001b[0m \u001b[38;5;28;01mif\u001b[39;00m \u001b[38;5;28mself\u001b[39m\u001b[38;5;241m.\u001b[39m_sensors:\n",
      "File \u001b[0;32m/opt/anaconda3/lib/python3.11/selectors.py:566\u001b[0m, in \u001b[0;36mKqueueSelector.select\u001b[0;34m(self, timeout)\u001b[0m\n\u001b[1;32m    564\u001b[0m ready \u001b[38;5;241m=\u001b[39m []\n\u001b[1;32m    565\u001b[0m \u001b[38;5;28;01mtry\u001b[39;00m:\n\u001b[0;32m--> 566\u001b[0m     kev_list \u001b[38;5;241m=\u001b[39m \u001b[38;5;28mself\u001b[39m\u001b[38;5;241m.\u001b[39m_selector\u001b[38;5;241m.\u001b[39mcontrol(\u001b[38;5;28;01mNone\u001b[39;00m, max_ev, timeout)\n\u001b[1;32m    567\u001b[0m \u001b[38;5;28;01mexcept\u001b[39;00m \u001b[38;5;167;01mInterruptedError\u001b[39;00m:\n\u001b[1;32m    568\u001b[0m     \u001b[38;5;28;01mreturn\u001b[39;00m ready\n",
      "\u001b[0;31mKeyboardInterrupt\u001b[0m: "
     ]
    }
   ],
   "source": [
    "for count, i in enumerate(consumer):\n",
    "    # Convert the value to JSON format\n",
    "    json_data = json.dumps(i.value)\n",
    "    \n",
    "    # Upload the JSON data to S3\n",
    "    s3.put_object(\n",
    "        Bucket='kafka-stock-market-project-nikolas',\n",
    "        Key='stock_market_{}.json'.format(count),\n",
    "        Body=json_data\n",
    "    )"
   ]
  },
  {
   "cell_type": "code",
   "execution_count": null,
   "id": "5991d10f",
   "metadata": {},
   "outputs": [],
   "source": []
  },
  {
   "cell_type": "code",
   "execution_count": null,
   "id": "3632d61d",
   "metadata": {},
   "outputs": [],
   "source": []
  }
 ],
 "metadata": {
  "kernelspec": {
   "display_name": "Python 3 (ipykernel)",
   "language": "python",
   "name": "python3"
  },
  "language_info": {
   "codemirror_mode": {
    "name": "ipython",
    "version": 3
   },
   "file_extension": ".py",
   "mimetype": "text/x-python",
   "name": "python",
   "nbconvert_exporter": "python",
   "pygments_lexer": "ipython3",
   "version": "3.11.7"
  }
 },
 "nbformat": 4,
 "nbformat_minor": 5
}
